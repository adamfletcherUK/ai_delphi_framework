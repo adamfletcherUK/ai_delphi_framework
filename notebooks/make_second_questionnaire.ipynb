{
 "cells": [
  {
   "cell_type": "markdown",
   "metadata": {},
   "source": [
    "# Make Second Questionnaire\n",
    "\n",
    "This second questionnaire will made using the outputs of the initial questionnaire with the aim of zooming in on further areas to explore and casting a larger view on the areas of discrepancy"
   ]
  },
  {
   "cell_type": "code",
   "execution_count": 1,
   "metadata": {},
   "outputs": [],
   "source": [
    "from langchain.llms import OpenAI\n",
    "from langchain.chat_models import ChatOpenAI\n",
    "from langchain.prompts import ChatPromptTemplate, HumanMessagePromptTemplate\n",
    "from langchain.schema.messages import SystemMessage\n",
    "import yaml\n",
    "import os\n",
    "import json\n",
    "import pandas as pd\n",
    "import glob\n",
    "\n",
    "with open('config.yaml', 'r') as file:\n",
    "    config = yaml.safe_load(file)\n",
    "os.environ['OPENAI_API_KEY'] = config['openai_api_key']"
   ]
  },
  {
   "cell_type": "markdown",
   "metadata": {},
   "source": [
    "## Extract questions from analysis\n",
    "\n",
    "As part of the analysis, further questions to ask were part of the analysis - we will extract these questions"
   ]
  },
  {
   "cell_type": "code",
   "execution_count": 2,
   "metadata": {},
   "outputs": [
    {
     "name": "stderr",
     "output_type": "stream",
     "text": [
      "/Users/adamfletcher/Documents/GitHub/ai_delphi_framework/.venv/lib/python3.11/site-packages/langchain_core/_api/deprecation.py:117: LangChainDeprecationWarning: The class `langchain_community.chat_models.openai.ChatOpenAI` was deprecated in langchain-community 0.0.10 and will be removed in 0.2.0. An updated version of the class exists in the langchain-openai package and should be used instead. To use it run `pip install -U langchain-openai` and import as `from langchain_openai import ChatOpenAI`.\n",
      "  warn_deprecated(\n"
     ]
    }
   ],
   "source": [
    "chat_template = ChatPromptTemplate.from_messages(\n",
    "    [\n",
    "        SystemMessage(\n",
    "            content=(open('./persona_descriptions/extract_questions_from_analysis.txt').read())\n",
    "        ),\n",
    "        HumanMessagePromptTemplate.from_template(\n",
    "            \"\"\"Can you to the best of your ability analyse the analysis and highligh the questions raised in the analysis: {analysis}\"\"\"\n",
    "            ),\n",
    "    ]\n",
    ")\n",
    "\n",
    "llm = ChatOpenAI(model='gpt-4-turbo-preview') ## make this defined ones and used again and again!!"
   ]
  },
  {
   "cell_type": "markdown",
   "metadata": {},
   "source": [
    "### TODO: delete 11_further_questions.md if exists"
   ]
  },
  {
   "cell_type": "code",
   "execution_count": 3,
   "metadata": {},
   "outputs": [
    {
     "name": "stdout",
     "output_type": "stream",
     "text": [
      "What specific best practices would you recommend for data anonymization and encryption to maintain confidentiality in handling PII and sensitive IP information within the email triage process?\n",
      "What considerations would you take into account when assessing cloud vs. on-premise deployment options in relation to data security and operational efficiency for email triage?\n",
      "How valuable do you find developing interfaces for departmental staff to provide feedback on email triage accuracy to improve model performance in the context of user experience?\n",
      "In your opinion, how critical is ensuring the protection of Personally Identifiable Information (PII) and sensitive intellectual property (IP) within the machine learning lifecycle for email triage?\n",
      "How would you suggest incorporating mechanisms for continuous learning and adaptation to address evolving departmental categorization needs as new types of emails are received?\n",
      "How important is the selection of appropriate machine learning frameworks, programming languages, and tools that best fit the scalability, security, and performance requirements for email triage using AI?\n",
      "When designing machine learning models for processing millions of emails daily, what strategies do you believe are essential for ensuring scalability and high performance in categorization?\n",
      "How would you propose establishing clear governance structures for overseeing the deployment and ongoing management of the AI system within the email triage process?\n",
      "How would you ensure that the system enhances rather than complicates the workflow for employees managing emails during the triage process?\n",
      "What factors would you consider when evaluating long-term ROI and potential savings from reduced manual processing in the context of email triage using a machine learning model?\n",
      "How familiar are you with relevant data protection regulations such as GDPR and HIPAA, and how do you suggest ensuring compliance in the context of deploying a machine learning model for email triage?\n",
      "What ethical considerations do you believe are crucial when automating decisions based on categorization accuracy in email triage?\n",
      "How important is seamless integration of the machine learning model into existing email and IT infrastructure without operational disruptions in deploying a model for email triage?\n",
      "What are your recommendations for training machine learning models with diverse datasets to recognize a wide array of email requests effectively in the context of email triage?\n",
      "How significant do you consider the impact of potential biases in the model on the email triage process, and what measures would you recommend to address biases and ensure accurate categorization?\n",
      "What strategies would you recommend for aligning the machine learning deployment with business objectives and departmental needs through collaboration and stakeholder engagement in the context of email triage?\n",
      "In your opinion, how critical is evaluating the cost implications of developing, deploying, and maintaining the machine learning system against the benefits of increased efficiency and accuracy in email triage?\n",
      "How would you approach scaling the model's capacity as email volume increases or as new types of requests emerge to maintain accuracy in email categorization?\n",
      "How crucial do you believe stakeholder engagement is in the successful deployment of a machine learning model for email triage, and how would you foster collaboration between IT, data science teams, and departmental staff?\n",
      "What level of importance do you place on understanding and adhering to regulations governing the use of AI and machine learning in processing communications containing sensitive information for email triage?\n",
      "What strategies would you propose for deploying the model to allow for easy updates and maintenance while ensuring uninterrupted email triage operations?\n"
     ]
    }
   ],
   "source": [
    "files = glob.glob('outputs/9_analysed_questions/*.md')\n",
    "for file in files:\n",
    "    with open(file) as f:\n",
    "        print(os.path.basename(file).replace('.md',''))\n",
    "        analysis = f.read()\n",
    "        analysed_questionnaire = llm.invoke(chat_template.format_messages(analysis=analysis)).content\n",
    "\n",
    "        with open(f\"outputs/11_further_questions/{os.path.basename(file).replace('.md','')}.md\", \"w\") as text_file:\n",
    "            text_file.write(analysed_questionnaire)"
   ]
  },
  {
   "cell_type": "code",
   "execution_count": 18,
   "metadata": {},
   "outputs": [
    {
     "name": "stdout",
     "output_type": "stream",
     "text": [
      "How do you envision the new infrastructure accommodating future growth, scalability, and technological advancements?\n",
      "What criteria will you use to evaluate potential vendors for assisting with the transition to a modern infrastructure?\n",
      "What technical challenges do you foresee in transitioning from mainframes to modern infrastructure?\n",
      "How do you anticipate changes in regulatory requirements with the transition to a modern infrastructure, and how do you plan to navigate them effectively?\n",
      "How do you intend to ensure minimal disruption to operations during the transition phase?\n",
      "How would you assess the financial implications of transitioning from mainframes to a more modern infrastructure?\n",
      "In your opinion, what potential improvements in system performance and operational efficiency do you anticipate with the new infrastructure?\n",
      "What measures will you implement to maintain or improve the organization's cybersecurity posture with the new infrastructure?\n",
      "What strategies do you propose for upskilling or reskilling staff to manage and operate the new infrastructure effectively?\n",
      "How do you plan to address cybersecurity concerns during the transition process?\n",
      "In your opinion, what are the key costs involved in the migration process, and how do they compare to potential long-term savings?\n",
      "How do you plan to address the compatibility issues between legacy systems and newer technologies during the transition?\n",
      "What contingency plans do you have in place to mitigate risks during the migration process?\n",
      "How do you plan to manage the human side of the transition, including employee resistance and fostering a change-friendly culture?\n"
     ]
    }
   ],
   "source": [
    "# files = glob.glob('outputs/9_analysed_questions/*.md')\n",
    "# for file in files:\n",
    "#     with open(file) as f:\n",
    "#         print(os.path.basename(file).replace('.md',''))\n",
    "#         analysis = f.read()\n",
    "#         analysed_questionaire = llm.invoke(chat_template.format_messages(analysis=analysis)).content\n",
    "\n",
    "#         with open(f\"outputs/11_further_questions.md\", \"a\") as text_file:\n",
    "#             text_file.write(f\"\"\"{analysed_questionaire}\n",
    "# \"\"\")"
   ]
  },
  {
   "cell_type": "markdown",
   "metadata": {},
   "source": [
    "just need to determine whether an LLM can answer all these questions at once of whether it needs to be split up"
   ]
  },
  {
   "cell_type": "markdown",
   "metadata": {},
   "source": []
  }
 ],
 "metadata": {
  "kernelspec": {
   "display_name": ".venv",
   "language": "python",
   "name": "python3"
  },
  "language_info": {
   "codemirror_mode": {
    "name": "ipython",
    "version": 3
   },
   "file_extension": ".py",
   "mimetype": "text/x-python",
   "name": "python",
   "nbconvert_exporter": "python",
   "pygments_lexer": "ipython3",
   "version": "3.11.5"
  }
 },
 "nbformat": 4,
 "nbformat_minor": 2
}
