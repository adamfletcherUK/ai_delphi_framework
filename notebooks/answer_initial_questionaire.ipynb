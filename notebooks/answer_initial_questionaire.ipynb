{
 "cells": [
  {
   "cell_type": "markdown",
   "metadata": {},
   "source": [
    "# Answer the Initial Questionaire"
   ]
  },
  {
   "cell_type": "code",
   "execution_count": 1,
   "metadata": {},
   "outputs": [],
   "source": [
    "from langchain.llms import OpenAI\n",
    "from langchain.chat_models import ChatOpenAI\n",
    "from langchain.prompts import ChatPromptTemplate, HumanMessagePromptTemplate\n",
    "from langchain.schema.messages import SystemMessage\n",
    "import yaml\n",
    "import os\n",
    "import json\n",
    "import pandas as pd\n",
    "\n",
    "with open('config.yaml', 'r') as file:\n",
    "    config = yaml.safe_load(file)\n",
    "os.environ['OPENAI_API_KEY'] = config['openai_api_key']"
   ]
  },
  {
   "cell_type": "code",
   "execution_count": 2,
   "metadata": {},
   "outputs": [],
   "source": [
    "with open(\"outputs/3_questionnaire.md\", \"r\") as f:\n",
    "    questionnaire = f.read()"
   ]
  },
  {
   "cell_type": "markdown",
   "metadata": {},
   "source": [
    "## Have Each Persona Answer the Initial Questionnaire"
   ]
  },
  {
   "cell_type": "code",
   "execution_count": 6,
   "metadata": {},
   "outputs": [
    {
     "name": "stdout",
     "output_type": "stream",
     "text": [
      "Ethics and Bias Reduction Experts The Scalability Strategist\n",
      "Business Analysts and ROI Experts The Strategic Optimizer\n",
      "IT Infrastructure Architects The Integration Innovator\n",
      "Business Analysts and ROI Experts The Efficiency Explorer\n",
      "Machine Learning Engineers The Integration Expert\n",
      "Cloud Computing and Deployment Specialists Stakeholder Engagement Facilitator The Collaborator\n",
      "IT Infrastructure Architects The Data Guardian\n",
      "Industry Veterans The Tech-Savvy Innovator\n",
      "Data Privacy and Security Specialists Continuous Learning Innovator\n",
      "Stakeholder Engagement Coordinators The Integrator\n",
      "Ethics and Bias Reduction Experts The Compliance Conductor\n",
      "User Experience (UX) Designers UX Designer for Feedback Systems Persona The Feedback Strategist\n",
      "Stakeholder Engagement Coordinators The Technophile\n",
      "Machine Learning Engineers The Ethical Innovator\n",
      "IT Infrastructure Architects The Ethical AI Advocate\n",
      "Regulatory Compliance Consultants The Techno-Strategist\n",
      "Machine Learning Engineers The Continuous Learner\n",
      "IT Infrastructure Architects The Scalability Strategist\n",
      "User Experience (UX) Designers UX Designer for Workflow Enhancement Persona The Efficiency Expert\n",
      "Data Privacy and Security Specialists Deployment Efficiency Expert\n",
      "Regulatory Compliance Consultants The Data Guardian\n",
      "Ethics and Bias Reduction Experts The Data Guardian\n",
      "Ethics and Bias Reduction Experts The Ethical Architect\n",
      "Data Privacy and Security Specialists Scalability Architect\n",
      "Stakeholder Engagement Coordinators The Guardian\n",
      "Business Analysts and ROI Experts The Cloud Innovator\n",
      "User Experience (UX) Designers UX Designer for AI Systems Interface Persona The Intuitive Architect\n",
      "Industry Veterans The Seasoned Strategist\n",
      "Machine Learning Engineers The Scalability Architect\n",
      "Cloud Computing and Deployment Specialists Data Privacy and Security Specialist The Guardian\n",
      "Cloud Computing and Deployment Specialists Ethical AI Advocate The Conscientious\n",
      "Data Privacy and Security Specialists Machine Learning Ethicist\n",
      "Data Privacy and Security Specialists AI Compliance Strategist\n",
      "IT Infrastructure Architects The Collaborative Facilitator\n",
      "Regulatory Compliance Consultants The AI Ethicist\n",
      "Data Privacy and Security Specialists Data Privacy Guardian\n",
      "Ethics and Bias Reduction Experts The Bias Buster\n",
      "Cloud Computing and Deployment Specialists Cloud Architect The Strategic Visionary\n",
      "Cloud Computing and Deployment Specialists Machine Learning Deployment Engineer The Pragmatist\n",
      "Business Analysts and ROI Experts The Data Guardian\n",
      "Industry Veterans The Process Optimization Expert\n",
      "Industry Veterans The Data Protection Guardian\n",
      "Regulatory Compliance Consultants The Governance Guru\n",
      "Machine Learning Engineers The Data Guardian\n"
     ]
    }
   ],
   "source": [
    "import glob\n",
    "\n",
    "files = glob.glob('outputs/6_final_personas/*.md')\n",
    "for file in files:\n",
    "    with open(file) as f:\n",
    "        persona_content = f.read()\n",
    "    \n",
    "    print(os.path.basename(file).replace('.md',''))\n",
    "\n",
    "    chat_template = ChatPromptTemplate.from_messages(\n",
    "    [\n",
    "        SystemMessage(\n",
    "            content=(f\"\"\"{persona_content}\n",
    "                     \n",
    "                     {open('./persona_descriptions/have_each_persona_answer_the_initial_questionnaire.txt').read()}\n",
    "                     \"\"\")\n",
    "        ),\n",
    "        HumanMessagePromptTemplate.from_template(\n",
    "            \"\"\"Can you to the best of your ability answer this questionare giving very detailed responses: {questionnaire}\"\"\"\n",
    "            ),\n",
    "    ]\n",
    ")\n",
    "\n",
    "\n",
    "    llm = ChatOpenAI(model='gpt-4-turbo-preview') ## make this defined ones and used again and again!!\n",
    "    answered_questionaire = llm.invoke(chat_template.format_messages(questionnaire=questionnaire)).content\n",
    "\n",
    "    with open(f\"outputs/7_answered_questionares/{os.path.basename(file).replace('.md','')}.md\", \"w\") as text_file:\n",
    "        text_file.write(answered_questionaire)"
   ]
  },
  {
   "cell_type": "markdown",
   "metadata": {},
   "source": [
    "## Convert Initial Questionnaire Responses to JSON"
   ]
  },
  {
   "cell_type": "code",
   "execution_count": 3,
   "metadata": {},
   "outputs": [
    {
     "name": "stderr",
     "output_type": "stream",
     "text": [
      "/Users/adamfletcher/Documents/GitHub/ai_delphi_framework/.venv/lib/python3.11/site-packages/langchain_core/_api/deprecation.py:117: LangChainDeprecationWarning: The class `langchain_community.chat_models.openai.ChatOpenAI` was deprecated in langchain-community 0.0.10 and will be removed in 0.2.0. An updated version of the class exists in the langchain-openai package and should be used instead. To use it run `pip install -U langchain-openai` and import as `from langchain_openai import ChatOpenAI`.\n",
      "  warn_deprecated(\n"
     ]
    },
    {
     "name": "stdout",
     "output_type": "stream",
     "text": [
      "Ethics and Bias Reduction Experts The Scalability Strategist\n",
      "Business Analysts and ROI Experts The Strategic Optimizer\n",
      "IT Infrastructure Architects The Integration Innovator\n",
      "Business Analysts and ROI Experts The Efficiency Explorer\n",
      "Machine Learning Engineers The Integration Expert\n",
      "Cloud Computing and Deployment Specialists Stakeholder Engagement Facilitator The Collaborator\n",
      "   - unable to process\n",
      "IT Infrastructure Architects The Data Guardian\n",
      "Industry Veterans The Tech-Savvy Innovator\n",
      "Data Privacy and Security Specialists Continuous Learning Innovator\n",
      "Stakeholder Engagement Coordinators The Integrator\n",
      "Ethics and Bias Reduction Experts The Compliance Conductor\n",
      "User Experience (UX) Designers UX Designer for Feedback Systems Persona The Feedback Strategist\n",
      "Stakeholder Engagement Coordinators The Technophile\n",
      "Machine Learning Engineers The Ethical Innovator\n",
      "   - unable to process\n",
      "IT Infrastructure Architects The Ethical AI Advocate\n",
      "Regulatory Compliance Consultants The Techno-Strategist\n",
      "Machine Learning Engineers The Continuous Learner\n",
      "IT Infrastructure Architects The Scalability Strategist\n",
      "User Experience (UX) Designers UX Designer for Workflow Enhancement Persona The Efficiency Expert\n",
      "Data Privacy and Security Specialists Deployment Efficiency Expert\n",
      "Regulatory Compliance Consultants The Data Guardian\n",
      "Ethics and Bias Reduction Experts The Data Guardian\n",
      "Ethics and Bias Reduction Experts The Ethical Architect\n",
      "Data Privacy and Security Specialists Scalability Architect\n",
      "Stakeholder Engagement Coordinators The Guardian\n",
      "Business Analysts and ROI Experts The Cloud Innovator\n",
      "   - unable to process\n",
      "User Experience (UX) Designers UX Designer for AI Systems Interface Persona The Intuitive Architect\n",
      "Industry Veterans The Seasoned Strategist\n",
      "Machine Learning Engineers The Scalability Architect\n",
      "Cloud Computing and Deployment Specialists Data Privacy and Security Specialist The Guardian\n",
      "Cloud Computing and Deployment Specialists Ethical AI Advocate The Conscientious\n",
      "Data Privacy and Security Specialists Machine Learning Ethicist\n",
      "Data Privacy and Security Specialists AI Compliance Strategist\n",
      "IT Infrastructure Architects The Collaborative Facilitator\n",
      "Regulatory Compliance Consultants The AI Ethicist\n",
      "Data Privacy and Security Specialists Data Privacy Guardian\n",
      "Ethics and Bias Reduction Experts The Bias Buster\n",
      "Cloud Computing and Deployment Specialists Cloud Architect The Strategic Visionary\n",
      "Cloud Computing and Deployment Specialists Machine Learning Deployment Engineer The Pragmatist\n",
      "Business Analysts and ROI Experts The Data Guardian\n",
      "Industry Veterans The Process Optimization Expert\n",
      "Industry Veterans The Data Protection Guardian\n",
      "Regulatory Compliance Consultants The Governance Guru\n",
      "Machine Learning Engineers The Data Guardian\n",
      "   - unable to process\n"
     ]
    }
   ],
   "source": [
    "import glob\n",
    "\n",
    "chat_template = ChatPromptTemplate.from_messages(\n",
    "    [\n",
    "        SystemMessage(\n",
    "            content=(open('./persona_descriptions/convert_initial_questionnaire_responses_to_JSON.txt').read())\n",
    "        ),\n",
    "        HumanMessagePromptTemplate.from_template(\n",
    "            \"\"\"Can you convert the following into a JSON object: {answered_questionnaire}\"\"\"\n",
    "            ),\n",
    "    ]\n",
    ")\n",
    "\n",
    "llm = ChatOpenAI(model='gpt-4-turbo-preview') ## make this defined ones and used again and again!!\n",
    "\n",
    "files = glob.glob('outputs/7_answered_questionares/*.md')\n",
    "for file in files:\n",
    "    print(os.path.basename(file).replace('.md',''))\n",
    "    with open(file, 'r') as text_file:\n",
    "        answered_questionnaire = text_file.read()\n",
    "\n",
    "\n",
    "    answered_questionnaire_json = llm.invoke(chat_template.format_messages(\n",
    "        answered_questionnaire=answered_questionnaire)).content\n",
    "\n",
    "\n",
    "    try:\n",
    "        answered_questionnaire_json = json.loads(answered_questionnaire_json)\n",
    "        with open(f\"outputs/7_answered_questionares/{os.path.basename(file).replace('.md','')}.json\", 'w') as f:\n",
    "            json.dump(answered_questionnaire_json, f)\n",
    "    except:\n",
    "        print(\"   - unable to process\")\n",
    "        continue"
   ]
  },
  {
   "cell_type": "markdown",
   "metadata": {},
   "source": [
    "## Reformat JSONs to bundle questions"
   ]
  },
  {
   "cell_type": "code",
   "execution_count": 4,
   "metadata": {},
   "outputs": [
    {
     "name": "stdout",
     "output_type": "stream",
     "text": [
      "Ethics and Bias Reduction Experts The Scalability Strategist\n",
      "Industry Veterans The Seasoned Strategist\n",
      "Data Privacy and Security Specialists Scalability Architect\n",
      "Regulatory Compliance Consultants The Governance Guru\n",
      "IT Infrastructure Architects The Scalability Strategist\n",
      "Machine Learning Engineers The Continuous Learner\n",
      "Industry Veterans The Tech-Savvy Innovator\n",
      "IT Infrastructure Architects The Ethical AI Advocate\n",
      "IT Infrastructure Architects The Collaborative Facilitator\n",
      "Ethics and Bias Reduction Experts The Bias Buster\n",
      "Business Analysts and ROI Experts The Efficiency Explorer\n",
      "Machine Learning Engineers The Scalability Architect\n",
      "Cloud Computing and Deployment Specialists Cloud Architect The Strategic Visionary\n",
      "Data Privacy and Security Specialists Data Privacy Guardian\n",
      "User Experience (UX) Designers UX Designer for Feedback Systems Persona The Feedback Strategist\n",
      "Regulatory Compliance Consultants The Techno-Strategist\n",
      "Stakeholder Engagement Coordinators The Guardian\n",
      "Data Privacy and Security Specialists Continuous Learning Innovator\n",
      "User Experience (UX) Designers UX Designer for Workflow Enhancement Persona The Efficiency Expert\n",
      "Data Privacy and Security Specialists Machine Learning Ethicist\n",
      "Ethics and Bias Reduction Experts The Compliance Conductor\n",
      "Cloud Computing and Deployment Specialists Machine Learning Deployment Engineer The Pragmatist\n",
      "User Experience (UX) Designers UX Designer for AI Systems Interface Persona The Intuitive Architect\n",
      "Data Privacy and Security Specialists AI Compliance Strategist\n",
      "Machine Learning Engineers The Integration Expert\n",
      "Business Analysts and ROI Experts The Data Guardian\n",
      "Stakeholder Engagement Coordinators The Technophile\n",
      "Cloud Computing and Deployment Specialists Stakeholder Engagement Facilitator The Collaborator\n",
      "Industry Veterans The Data Protection Guardian\n",
      "Regulatory Compliance Consultants The AI Ethicist\n",
      "Stakeholder Engagement Coordinators The Integrator\n",
      "Cloud Computing and Deployment Specialists Data Privacy and Security Specialist The Guardian\n",
      "Data Privacy and Security Specialists Deployment Efficiency Expert\n",
      "Machine Learning Engineers The Ethical Innovator\n",
      "Ethics and Bias Reduction Experts The Data Guardian\n",
      "IT Infrastructure Architects The Data Guardian\n",
      "Industry Veterans The Process Optimization Expert\n",
      "IT Infrastructure Architects The Integration Innovator\n",
      "Ethics and Bias Reduction Experts The Ethical Architect\n",
      "Cloud Computing and Deployment Specialists Ethical AI Advocate The Conscientious\n",
      "Business Analysts and ROI Experts The Strategic Optimizer\n",
      "Regulatory Compliance Consultants The Data Guardian\n"
     ]
    }
   ],
   "source": [
    "responses_df = pd.DataFrame()\n",
    "\n",
    "files = glob.glob('outputs/7_answered_questionares/*.json')\n",
    "for file in files:\n",
    "    expert = os.path.basename(file).replace('.json','')\n",
    "    print(expert)\n",
    "    with open(file, 'r') as j:\n",
    "        response = json.loads(j.read())\n",
    "    tmp_df = pd.DataFrame.from_dict(response['Answers'])\n",
    "    tmp_df['Expert'] = expert\n",
    "    responses_df = pd.concat([responses_df, tmp_df])"
   ]
  },
  {
   "cell_type": "code",
   "execution_count": 8,
   "metadata": {},
   "outputs": [],
   "source": [
    "def dataframe_to_text(df, question):\n",
    "    text_lines = []\n",
    "    line = f\"\"\"# {question}\n",
    "\n",
    "\"\"\"\n",
    "    text_lines.append(line)\n",
    "\n",
    "    for index, row in df.iterrows():\n",
    "        line = f\"\"\"\n",
    "## {row['Expert']}: \n",
    "\n",
    "{row['Response']}\n",
    "        \"\"\"\n",
    "        text_lines.append(line.replace(\"['\", \"\").replace(\"']\", \"\").replace('[\"', '').replace('\"]', ''))\n",
    "    return \" \".join(text_lines)\n"
   ]
  },
  {
   "cell_type": "code",
   "execution_count": 9,
   "metadata": {},
   "outputs": [],
   "source": [
    "with open(\"outputs/3_questionnaire.json\", \"r\") as f:\n",
    "    questionnare = json.loads(f.read())\n",
    "\n",
    "questionare_df = pd.DataFrame.from_dict(questionnare['Questionare']) #todo: fix this spelling error\n",
    "\n",
    "for i in questionare_df['Number'].unique():\n",
    "    question = questionare_df.loc[questionare_df['Number'] == i]['Question'].values[0]\n",
    "    formatted_question = dataframe_to_text(responses_df.loc[responses_df['Question'] == i], \n",
    "                                       question)\n",
    "\n",
    "    with open(f\"outputs/8_formatted_questions/{question}.md\", \"w\") as text_file:\n",
    "        text_file.write(formatted_question)\n"
   ]
  },
  {
   "cell_type": "code",
   "execution_count": null,
   "metadata": {},
   "outputs": [],
   "source": []
  }
 ],
 "metadata": {
  "kernelspec": {
   "display_name": ".venv",
   "language": "python",
   "name": "python3"
  },
  "language_info": {
   "codemirror_mode": {
    "name": "ipython",
    "version": 3
   },
   "file_extension": ".py",
   "mimetype": "text/x-python",
   "name": "python",
   "nbconvert_exporter": "python",
   "pygments_lexer": "ipython3",
   "version": "3.11.5"
  }
 },
 "nbformat": 4,
 "nbformat_minor": 2
}
