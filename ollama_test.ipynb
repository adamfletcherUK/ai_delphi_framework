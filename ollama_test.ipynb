{
 "cells": [
  {
   "cell_type": "markdown",
   "metadata": {},
   "source": [
    "# Testing Ollama For Local Models\n",
    "\n",
    "Essentially I need to turn ```llm = ChatOpenAI``` to ```llm= ChatOllama```"
   ]
  },
  {
   "cell_type": "code",
   "execution_count": 27,
   "metadata": {},
   "outputs": [
    {
     "name": "stdout",
     "output_type": "stream",
     "text": [
      " Sure thing! Here's one of my favorites:\n",
      "\n",
      "Why was the math book sad?\n",
      "Because it had too many problems.\n",
      "\n",
      "I hope that brings a smile to your day! If you have any other requests or questions, just let me know.\n"
     ]
    }
   ],
   "source": [
    "from langchain.llms import Ollama\n",
    "\n",
    "llm = Ollama(model=\"mistral\", temperature=19)\n",
    "\n",
    "# llm.invoke(\"Tell me a joke\")\n",
    "query = \"Tell me a joke\"\n",
    "\n",
    "# for chunks in llm.stream(query):\n",
    "#     print(chunks)\n",
    "\n",
    "print(llm.invoke(query))"
   ]
  },
  {
   "cell_type": "code",
   "execution_count": 23,
   "metadata": {},
   "outputs": [
    {
     "data": {
      "text/plain": [
       "Ollama(model='mistral', temperature=19.0)"
      ]
     },
     "execution_count": 23,
     "metadata": {},
     "output_type": "execute_result"
    }
   ],
   "source": [
    "llm"
   ]
  },
  {
   "cell_type": "code",
   "execution_count": 6,
   "metadata": {},
   "outputs": [
    {
     "name": "stdout",
     "output_type": "stream",
     "text": [
      "{\"model\":\"llama3\",\"created_at\":\"2024-04-25T09:57:11.508571Z\",\"message\":{\"role\":\"assistant\",\"content\":\"What a great question!\\n\\nThe short answer: The sky appears blue because of a phenomenon called Rayleigh scattering, named after the British physicist Lord Rayleigh. He discovered in 1871 that shorter (blue) wavelengths of light are scattered more than longer (red) wavelengths by tiny molecules of gases in the atmosphere, like nitrogen and oxygen.\\n\\nHere's a more detailed explanation:\\n\\nWhen sunlight enters Earth's atmosphere, it encounters tiny molecules of gases, such as nitrogen (N2) and oxygen (O2). These molecules are much smaller than the wavelength of light, so they scatter the light in all directions. This scattering effect is known as Rayleigh scattering.\\n\\nNow, here's the important part: shorter wavelengths (like blue and violet) are scattered more than longer wavelengths (like red and orange). This is because the smaller molecules are better at scattering the shorter wavelengths. Think of it like a game of pool: when you hit the cue ball with a lot of force (short wavelength), it bounces off in many directions, whereas if you hit it gently (long wavelength), it just rolls along.\\n\\nAs a result of this scattering, our eyes perceive the blue light as being more intense than the other colors, making the sky appear blue. The color we see is actually the combined effect of the scattered blue light and the direct sunlight that reaches our eyes.\\n\\nAdditionally, some atmospheric particles like dust, water vapor, and pollutants can also scatter light, which affects the apparent color of the sky. For example, during sunrise or sunset, the longer wavelengths of red and orange light are more likely to pass through the atmosphere without being scattered as much, giving the sky its characteristic warm hues.\\n\\nSo, there you have it! The blue color of the sky is a result of the combined effects of Rayleigh scattering, atmospheric particles, and our eyes' perception of the scattered light.\"},\"done\":true,\"total_duration\":7098060584,\"load_duration\":1452417,\"prompt_eval_duration\":101480000,\"eval_count\":376,\"eval_duration\":6992963000}"
     ]
    }
   ],
   "source": [
    "!curl http://localhost:11434/api/chat -d '{\"model\": \"llama3\", \"stream\": false, \"messages\": [{\"role\": \"user\",\"content\": \"why is the sky blue?\"}]}'"
   ]
  },
  {
   "cell_type": "code",
   "execution_count": null,
   "metadata": {},
   "outputs": [],
   "source": []
  },
  {
   "cell_type": "code",
   "execution_count": 1,
   "metadata": {},
   "outputs": [],
   "source": [
    "with open('outputs/1_question.md') as f:\n",
    "    question = f.read()\n",
    "\n",
    "\n",
    "from langchain.llms import Ollama\n",
    "from langchain_community.chat_models import ChatOllama\n",
    "from langchain.prompts import ChatPromptTemplate, HumanMessagePromptTemplate\n",
    "from langchain.schema.messages import SystemMessage\n",
    "import yaml\n",
    "import os\n",
    "import json\n",
    "import pandas as pd\n"
   ]
  },
  {
   "cell_type": "code",
   "execution_count": 18,
   "metadata": {},
   "outputs": [
    {
     "name": "stdout",
     "output_type": "stream",
     "text": [
      " Based on the provided context, some potential key themes around the deployment of machine learning models for email triaging in a high-volume request center might include:\n",
      "\n",
      "1. Data Preprocessing and Feature Engineering: This theme would focus on preparing the data for machine learning models, including techniques such as text cleaning, tokenization, stemming, stop words removal, and feature extraction.\n",
      "2. Machine Learning Algorithms: Exploring various machine learning algorithms that are best suited for email triaging tasks, such as Naive Bayes, Support Vector Machines (SVM), Random Forests, Long Short-Term Memory (LSTM) networks, or other deep learning models.\n",
      "3. Natural Language Processing (NLP): NLP techniques, including sentiment analysis and named entity recognition, can help extract meaning from unstructured text data in emails for improved accuracy.\n",
      "4. Model Training: Discussing techniques for effectively training machine learning models on large datasets, such as transfer learning, active learning, and ensemble methods.\n",
      "5. Scalability and Deployment: Ensuring the machine learning model is scalable and can be easily deployed within your existing email system to handle high volumes of emails, potentially through cloud-based solutions or APIs.\n",
      "6. Security and Compliance: Addressing data security concerns, including PII and other sensitive IP information protection, encryption methods, and compliance with relevant regulations like GDPR or HIPAA.\n",
      "7. User Feedback and Model Refinement: Implementing a process for soliciting user feedback to continually refine the machine learning model and improve its performance over time.\n",
      "8. Evaluation Metrics and Performance Analysis: Establishing clear evaluation metrics to assess the model's accuracy, precision, recall, and F1 score, as well as analyzing false positives and false negatives for potential improvements.\n"
     ]
    }
   ],
   "source": [
    "chat_template = ChatPromptTemplate.from_messages(\n",
    "    [\n",
    "        SystemMessage(\n",
    "            content=(open('./persona_descriptions/determine_key_themes.txt').read())\n",
    "        ),\n",
    "        HumanMessagePromptTemplate.from_template(\n",
    "            \"\"\"can you provide key themes around the question or subject of '{question}'\"\"\"\n",
    "            ),\n",
    "    ]\n",
    ")\n",
    "\n",
    "llm = ChatOllama(model='mistral') ## make this defined ones and used again and again!!\n",
    "key_themes = llm.invoke(chat_template.format_messages(\n",
    "    question=question)).content\n",
    "\n",
    "print(key_themes)\n",
    "# with open(\"outputs/OLLAMA_2_key_themes.md\", \"w\") as text_file:\n",
    "#     text_file.write(key_themes)"
   ]
  },
  {
   "cell_type": "code",
   "execution_count": null,
   "metadata": {},
   "outputs": [],
   "source": []
  },
  {
   "cell_type": "code",
   "execution_count": null,
   "metadata": {},
   "outputs": [],
   "source": []
  }
 ],
 "metadata": {
  "kernelspec": {
   "display_name": ".venv",
   "language": "python",
   "name": "python3"
  },
  "language_info": {
   "codemirror_mode": {
    "name": "ipython",
    "version": 3
   },
   "file_extension": ".py",
   "mimetype": "text/x-python",
   "name": "python",
   "nbconvert_exporter": "python",
   "pygments_lexer": "ipython3",
   "version": "3.11.5"
  }
 },
 "nbformat": 4,
 "nbformat_minor": 2
}
